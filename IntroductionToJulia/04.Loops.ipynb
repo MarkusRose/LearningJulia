{
  "cells": [
    {
      "cell_type": "markdown",
      "source": [
        "# Loops\n",
        "\n",
        "Topics:\n",
        "1. `while` loops\n",
        "2. `for` loops\n",
        "<br>\n",
        "\n",
        "## while loops\n",
        "\n",
        "The syntax for a `while` is\n",
        "\n",
        "```julia\n",
        "while *condition*\n",
        "    *loop body*\n",
        "end\n",
        "```\n",
        "\n",
        "For example, we could use `while` to count or to iterate over an array."
      ],
      "metadata": {}
    },
    {
      "cell_type": "code",
      "source": [
        "n = 0\n",
        "while n < 10\n",
        "    n += 1\n",
        "    println(n)\n",
        "end\n",
        "n"
      ],
      "outputs": [
        {
          "output_type": "stream",
          "name": "stdout",
          "text": [
            "1\n",
            "2\n",
            "3\n",
            "4\n",
            "5\n",
            "6\n",
            "7\n",
            "8\n",
            "9\n",
            "10\n"
          ]
        },
        {
          "output_type": "execute_result",
          "execution_count": 1,
          "data": {
            "text/plain": [
              "10"
            ]
          },
          "metadata": {}
        }
      ],
      "execution_count": 1,
      "metadata": {
        "execution": {
          "iopub.status.busy": "2020-05-12T05:14:02.137Z",
          "iopub.execute_input": "2020-05-12T05:14:03.238Z",
          "iopub.status.idle": "2020-05-12T05:14:04.744Z"
        }
      }
    },
    {
      "cell_type": "code",
      "source": [
        "myfriends = [\"Ted\", \"Robyn\", \"Barney\", \"Lily\", \"Marshall\"]\n",
        "\n",
        "i = 1\n",
        "while i <= length(myfriends)\n",
        "    friend = myfriends[i]\n",
        "    println(\"Hi $friend, it's great to see you!\")\n",
        "    i += 1\n",
        "end"
      ],
      "outputs": [
        {
          "output_type": "stream",
          "name": "stdout",
          "text": [
            "Hi Ted, it's great to see you!\n",
            "Hi Robyn, it's great to see you!\n",
            "Hi Barney, it's great to see you!\n",
            "Hi Lily, it's great to see you!\n",
            "Hi Marshall, it's great to see you!\n"
          ]
        }
      ],
      "execution_count": 2,
      "metadata": {
        "execution": {
          "iopub.status.busy": "2020-05-12T05:14:13.585Z",
          "iopub.execute_input": "2020-05-12T05:14:13.595Z",
          "iopub.status.idle": "2020-05-12T05:14:13.748Z"
        }
      }
    },
    {
      "cell_type": "markdown",
      "source": [
        "## for loops\n",
        "\n",
        "The syntax for a `for` loop is\n",
        "\n",
        "```julia\n",
        "for *var* in *loop iterable*\n",
        "    *loop body*\n",
        "end\n",
        "```\n",
        "\n",
        "We could use a for loop to generate the same results as either of the examples above:"
      ],
      "metadata": {}
    },
    {
      "cell_type": "code",
      "source": [
        "for n in 1:10\n",
        "    println(n)\n",
        "end"
      ],
      "outputs": [
        {
          "output_type": "stream",
          "name": "stdout",
          "text": [
            "1\n",
            "2\n",
            "3\n",
            "4\n",
            "5\n",
            "6\n",
            "7\n",
            "8\n",
            "9\n",
            "10\n"
          ]
        }
      ],
      "execution_count": 3,
      "metadata": {
        "execution": {
          "iopub.status.busy": "2020-05-12T05:14:20.521Z",
          "iopub.execute_input": "2020-05-12T05:14:20.529Z",
          "iopub.status.idle": "2020-05-12T05:14:20.548Z"
        }
      }
    },
    {
      "cell_type": "code",
      "source": [
        "myfriends = [\"Ted\", \"Robyn\", \"Barney\", \"Lily\", \"Marshall\"]\n",
        "\n",
        "for friend in myfriends\n",
        "    println(\"Hi $friend, it's great to see you!\")\n",
        "end"
      ],
      "outputs": [
        {
          "output_type": "stream",
          "name": "stdout",
          "text": [
            "Hi Ted, it's great to see you!\n",
            "Hi Robyn, it's great to see you!\n",
            "Hi Barney, it's great to see you!\n",
            "Hi Lily, it's great to see you!\n",
            "Hi Marshall, it's great to see you!\n"
          ]
        }
      ],
      "execution_count": 4,
      "metadata": {
        "execution": {
          "iopub.status.busy": "2020-05-12T05:14:23.434Z",
          "iopub.execute_input": "2020-05-12T05:14:23.440Z",
          "iopub.status.idle": "2020-05-12T05:14:23.451Z"
        }
      }
    },
    {
      "cell_type": "markdown",
      "source": [
        "Now let's use `for` loops to create some addition tables, where the value of every entry is the sum of its row and column indices. <br>\n",
        "\n",
        "First, we initialize an array with zeros."
      ],
      "metadata": {}
    },
    {
      "cell_type": "code",
      "source": [
        "m, n = 5, 5\n",
        "A = fill(0, (m, n))"
      ],
      "outputs": [
        {
          "output_type": "execute_result",
          "execution_count": 5,
          "data": {
            "text/plain": [
              "5×5 Array{Int64,2}:\n",
              " 0  0  0  0  0\n",
              " 0  0  0  0  0\n",
              " 0  0  0  0  0\n",
              " 0  0  0  0  0\n",
              " 0  0  0  0  0"
            ]
          },
          "metadata": {}
        }
      ],
      "execution_count": 5,
      "metadata": {
        "execution": {
          "iopub.status.busy": "2020-05-12T05:14:27.346Z",
          "iopub.execute_input": "2020-05-12T05:14:27.355Z",
          "iopub.status.idle": "2020-05-12T05:14:28.364Z"
        }
      }
    },
    {
      "cell_type": "code",
      "source": [
        "for i in 1:m\n",
        "    for j in 1:n\n",
        "        A[i, j] = i + j\n",
        "    end\n",
        "end\n",
        "A"
      ],
      "outputs": [
        {
          "output_type": "execute_result",
          "execution_count": 6,
          "data": {
            "text/plain": [
              "5×5 Array{Int64,2}:\n",
              " 2  3  4  5   6\n",
              " 3  4  5  6   7\n",
              " 4  5  6  7   8\n",
              " 5  6  7  8   9\n",
              " 6  7  8  9  10"
            ]
          },
          "metadata": {}
        }
      ],
      "execution_count": 6,
      "metadata": {
        "execution": {
          "iopub.status.busy": "2020-05-12T05:14:37.805Z",
          "iopub.execute_input": "2020-05-12T05:14:37.812Z",
          "iopub.status.idle": "2020-05-12T05:14:37.854Z"
        }
      }
    },
    {
      "cell_type": "markdown",
      "source": [
        "Here's some syntactic sugar for the same nested `for` loop"
      ],
      "metadata": {}
    },
    {
      "cell_type": "code",
      "source": [
        "B = fill(0, (m, n))"
      ],
      "outputs": [
        {
          "output_type": "execute_result",
          "execution_count": 7,
          "data": {
            "text/plain": [
              "5×5 Array{Int64,2}:\n",
              " 0  0  0  0  0\n",
              " 0  0  0  0  0\n",
              " 0  0  0  0  0\n",
              " 0  0  0  0  0\n",
              " 0  0  0  0  0"
            ]
          },
          "metadata": {}
        }
      ],
      "execution_count": 7,
      "metadata": {
        "execution": {
          "iopub.status.busy": "2020-05-12T05:14:48.266Z",
          "iopub.execute_input": "2020-05-12T05:14:48.272Z",
          "iopub.status.idle": "2020-05-12T05:14:48.289Z"
        }
      }
    },
    {
      "cell_type": "code",
      "source": [
        "for i in 1:m, j in 1:n\n",
        "    B[i, j] = i + j\n",
        "end\n",
        "B"
      ],
      "outputs": [
        {
          "output_type": "execute_result",
          "execution_count": 8,
          "data": {
            "text/plain": [
              "5×5 Array{Int64,2}:\n",
              " 2  3  4  5   6\n",
              " 3  4  5  6   7\n",
              " 4  5  6  7   8\n",
              " 5  6  7  8   9\n",
              " 6  7  8  9  10"
            ]
          },
          "metadata": {}
        }
      ],
      "execution_count": 8,
      "metadata": {
        "execution": {
          "iopub.status.busy": "2020-05-12T05:15:14.181Z",
          "iopub.execute_input": "2020-05-12T05:15:14.186Z",
          "iopub.status.idle": "2020-05-12T05:15:14.202Z"
        }
      }
    },
    {
      "cell_type": "markdown",
      "source": [
        "The more \"Julia\" way to create this addition table would have been with an *array comprehension*."
      ],
      "metadata": {}
    },
    {
      "cell_type": "code",
      "source": [
        "C = [i + j for i in 1:m, j in 1:n]"
      ],
      "outputs": [
        {
          "output_type": "execute_result",
          "execution_count": 9,
          "data": {
            "text/plain": [
              "5×5 Array{Int64,2}:\n",
              " 2  3  4  5   6\n",
              " 3  4  5  6   7\n",
              " 4  5  6  7   8\n",
              " 5  6  7  8   9\n",
              " 6  7  8  9  10"
            ]
          },
          "metadata": {}
        }
      ],
      "execution_count": 9,
      "metadata": {
        "execution": {
          "iopub.status.busy": "2020-05-12T05:15:18.211Z",
          "iopub.execute_input": "2020-05-12T05:15:18.217Z",
          "iopub.status.idle": "2020-05-12T05:15:18.259Z"
        }
      }
    },
    {
      "cell_type": "markdown",
      "source": [
        "### Exercises\n",
        "\n",
        "#### 4.1\n",
        "Loop over integers between 1 and 100 and print their squares."
      ],
      "metadata": {}
    },
    {
      "cell_type": "code",
      "source": [
        "for i in 1:100\n",
        "  println(i * i)\n",
        "end"
      ],
      "outputs": [
        {
          "output_type": "stream",
          "name": "stdout",
          "text": [
            "1\n",
            "4\n",
            "9\n",
            "16\n",
            "25\n",
            "36\n",
            "49\n",
            "64\n",
            "81\n",
            "100\n",
            "121\n",
            "144\n",
            "169\n",
            "196\n",
            "225\n",
            "256\n",
            "289\n",
            "324\n",
            "361\n",
            "400\n",
            "441\n",
            "484\n",
            "529\n",
            "576\n",
            "625\n",
            "676\n",
            "729\n",
            "784\n",
            "841\n",
            "900\n",
            "961\n",
            "1024\n",
            "1089\n",
            "1156\n",
            "1225\n",
            "1296\n",
            "1369\n",
            "1444\n",
            "1521\n",
            "1600\n",
            "1681\n",
            "1764\n",
            "1849\n",
            "1936\n",
            "2025\n",
            "2116\n",
            "2209\n",
            "2304\n",
            "2401\n",
            "2500\n",
            "2601\n",
            "2704\n",
            "2809\n",
            "2916\n",
            "3025\n",
            "3136\n",
            "3249\n",
            "3364\n",
            "3481\n",
            "3600\n",
            "3721\n",
            "3844\n",
            "3969\n",
            "4096\n",
            "4225\n",
            "4356\n",
            "4489\n",
            "4624\n",
            "4761\n",
            "4900\n",
            "5041\n",
            "5184\n",
            "5329\n",
            "5476\n",
            "5625\n",
            "5776\n",
            "5929\n",
            "6084\n",
            "6241\n",
            "6400\n",
            "6561\n",
            "6724\n",
            "6889\n",
            "7056\n",
            "7225\n",
            "7396\n",
            "7569\n",
            "7744\n",
            "7921\n",
            "8100\n",
            "8281\n",
            "8464\n",
            "8649\n",
            "8836\n",
            "9025\n",
            "9216\n",
            "9409\n",
            "9604\n",
            "9801\n",
            "10000\n"
          ]
        }
      ],
      "execution_count": 11,
      "metadata": {
        "collapsed": true,
        "outputExpanded": false,
        "jupyter": {
          "source_hidden": false,
          "outputs_hidden": false
        },
        "nteract": {
          "transient": {
            "deleting": false
          }
        },
        "execution": {
          "iopub.status.busy": "2020-05-12T05:16:30.486Z",
          "iopub.execute_input": "2020-05-12T05:16:30.492Z",
          "iopub.status.idle": "2020-05-12T05:16:30.504Z"
        }
      }
    },
    {
      "cell_type": "markdown",
      "source": [
        "#### 4.2\n",
        "Add to the code above a bit to create a dictionary, `squares` that holds integers and their squares as key, value pairs such that\n",
        "\n",
        "```julia\n",
        "squares[10] == 100\n",
        "```"
      ],
      "metadata": {}
    },
    {
      "cell_type": "code",
      "source": [
        "squares = Dict( 1 => 1)\n",
        "for i in 1:100\n",
        "  squares[i] = i*i\n",
        "end\n",
        "squares"
      ],
      "outputs": [
        {
          "output_type": "execute_result",
          "execution_count": 15,
          "data": {
            "text/plain": [
              "Dict{Int64,Int64} with 100 entries:\n",
              "  68 => 4624\n",
              "  2  => 4\n",
              "  89 => 7921\n",
              "  11 => 121\n",
              "  39 => 1521\n",
              "  46 => 2116\n",
              "  85 => 7225\n",
              "  25 => 625\n",
              "  55 => 3025\n",
              "  42 => 1764\n",
              "  29 => 841\n",
              "  58 => 3364\n",
              "  66 => 4356\n",
              "  59 => 3481\n",
              "  8  => 64\n",
              "  74 => 5476\n",
              "  95 => 9025\n",
              "  57 => 3249\n",
              "  20 => 400\n",
              "  90 => 8100\n",
              "  14 => 196\n",
              "  31 => 961\n",
              "  78 => 6084\n",
              "  70 => 4900\n",
              "  33 => 1089\n",
              "  ⋮  => ⋮"
            ]
          },
          "metadata": {}
        }
      ],
      "execution_count": 15,
      "metadata": {
        "collapsed": true,
        "outputExpanded": false,
        "jupyter": {
          "source_hidden": false,
          "outputs_hidden": false
        },
        "nteract": {
          "transient": {
            "deleting": false
          }
        },
        "execution": {
          "iopub.status.busy": "2020-05-12T05:19:16.832Z",
          "iopub.execute_input": "2020-05-12T05:19:16.838Z",
          "iopub.status.idle": "2020-05-12T05:19:16.848Z"
        }
      }
    },
    {
      "cell_type": "code",
      "source": [
        "@assert squares[10] == 100\n",
        "@assert squares[11] == 121"
      ],
      "outputs": [],
      "execution_count": 16,
      "metadata": {
        "execution": {
          "iopub.status.busy": "2020-05-12T05:19:22.860Z",
          "iopub.execute_input": "2020-05-12T05:19:22.866Z",
          "iopub.status.idle": "2020-05-12T05:19:22.893Z"
        }
      }
    },
    {
      "cell_type": "markdown",
      "source": [
        "#### 4.3\n",
        "Use an array comprehension to create an an array `squares_arr` that stores the squares for all integers between 1 and 100."
      ],
      "metadata": {}
    },
    {
      "cell_type": "code",
      "source": [
        "squares_arr = [ i*i for i in 1:100]"
      ],
      "outputs": [
        {
          "output_type": "execute_result",
          "execution_count": 17,
          "data": {
            "text/plain": [
              "100-element Array{Int64,1}:\n",
              "     1\n",
              "     4\n",
              "     9\n",
              "    16\n",
              "    25\n",
              "    36\n",
              "    49\n",
              "    64\n",
              "    81\n",
              "   100\n",
              "   121\n",
              "   144\n",
              "   169\n",
              "     ⋮\n",
              "  7921\n",
              "  8100\n",
              "  8281\n",
              "  8464\n",
              "  8649\n",
              "  8836\n",
              "  9025\n",
              "  9216\n",
              "  9409\n",
              "  9604\n",
              "  9801\n",
              " 10000"
            ]
          },
          "metadata": {}
        }
      ],
      "execution_count": 17,
      "metadata": {
        "collapsed": true,
        "outputExpanded": false,
        "jupyter": {
          "source_hidden": false,
          "outputs_hidden": false
        },
        "nteract": {
          "transient": {
            "deleting": false
          }
        },
        "execution": {
          "iopub.status.busy": "2020-05-12T05:19:56.476Z",
          "iopub.execute_input": "2020-05-12T05:19:56.483Z",
          "iopub.status.idle": "2020-05-12T05:19:57.227Z"
        }
      }
    },
    {
      "cell_type": "code",
      "source": [
        "@assert length(squares_arr) == 100\n",
        "@assert sum(squares_arr) == 338350"
      ],
      "outputs": [],
      "execution_count": 18,
      "metadata": {
        "execution": {
          "iopub.status.busy": "2020-05-12T05:20:07.240Z",
          "iopub.execute_input": "2020-05-12T05:20:07.256Z",
          "iopub.status.idle": "2020-05-12T05:20:07.266Z"
        }
      }
    },
    {
      "cell_type": "code",
      "source": [],
      "outputs": [],
      "execution_count": null,
      "metadata": {
        "collapsed": true,
        "outputExpanded": false,
        "jupyter": {
          "source_hidden": false,
          "outputs_hidden": false
        },
        "nteract": {
          "transient": {
            "deleting": false
          }
        }
      }
    }
  ],
  "metadata": {
    "language_info": {
      "file_extension": ".jl",
      "name": "julia",
      "mimetype": "application/julia",
      "version": "1.4.1"
    },
    "kernelspec": {
      "name": "julia-1.0",
      "display_name": "Julia 1.0.3",
      "language": "julia"
    },
    "nteract": {
      "version": "0.23.1"
    }
  },
  "nbformat": 4,
  "nbformat_minor": 3
}