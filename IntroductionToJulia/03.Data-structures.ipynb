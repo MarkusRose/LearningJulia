{
  "cells": [
    {
      "cell_type": "markdown",
      "source": [
        "# Data structures\n",
        "\n",
        "Once we start working with many pieces of data at once, it will be convenient for us to store data in structures like arrays or dictionaries (rather than just relying on variables).<br>\n",
        "\n",
        "Types of data structures covered:\n",
        "1. Tuples\n",
        "2. Dictionaries\n",
        "3. Arrays\n",
        "\n",
        "<br>\n",
        "As an overview, tuples and arrays are both ordered sequences of elements (so we can index into them). Dictionaries and arrays are both mutable.\n",
        "We'll explain this more below!"
      ],
      "metadata": {}
    },
    {
      "cell_type": "markdown",
      "source": [
        "## Tuples\n",
        "\n",
        "We can create a tuple by enclosing an ordered collection of elements in `( )`.\n",
        "\n",
        "Syntax: <br>\n",
        "```julia\n",
        "(item1, item2, ...)```"
      ],
      "metadata": {}
    },
    {
      "cell_type": "code",
      "source": [
        "myfavoriteanimals = (\"penguins\", \"cats\", \"sugargliders\")"
      ],
      "outputs": [
        {
          "output_type": "execute_result",
          "execution_count": 1,
          "data": {
            "text/plain": [
              "(\"penguins\", \"cats\", \"sugargliders\")"
            ]
          },
          "metadata": {}
        }
      ],
      "execution_count": 1,
      "metadata": {
        "execution": {
          "iopub.status.busy": "2020-05-12T04:39:36.176Z",
          "iopub.execute_input": "2020-05-12T04:39:37.301Z",
          "iopub.status.idle": "2020-05-12T04:39:38.904Z"
        }
      }
    },
    {
      "cell_type": "markdown",
      "source": [
        "We can index into this tuple,"
      ],
      "metadata": {}
    },
    {
      "cell_type": "code",
      "source": [
        "myfavoriteanimals[1]"
      ],
      "outputs": [
        {
          "output_type": "execute_result",
          "execution_count": 2,
          "data": {
            "text/plain": [
              "\"penguins\""
            ]
          },
          "metadata": {}
        }
      ],
      "execution_count": 2,
      "metadata": {
        "execution": {
          "iopub.status.busy": "2020-05-12T04:39:43.620Z",
          "iopub.execute_input": "2020-05-12T04:39:43.635Z",
          "iopub.status.idle": "2020-05-12T04:39:43.932Z"
        }
      }
    },
    {
      "cell_type": "markdown",
      "source": [
        "but since tuples are immutable, we can't update it"
      ],
      "metadata": {}
    },
    {
      "cell_type": "code",
      "source": [
        "myfavoriteanimals[1] = \"otters\""
      ],
      "outputs": [
        {
          "output_type": "error",
          "ename": "MethodError",
          "evalue": "MethodError: no method matching setindex!(::Tuple{String,String,String}, ::String, ::Int64)",
          "traceback": [
            "MethodError: no method matching setindex!(::Tuple{String,String,String}, ::String, ::Int64)",
            "",
            "Stacktrace:",
            " [1] top-level scope at In[3]:1"
          ]
        }
      ],
      "execution_count": 3,
      "metadata": {
        "execution": {
          "iopub.status.busy": "2020-05-12T04:39:46.713Z",
          "iopub.execute_input": "2020-05-12T04:39:46.731Z",
          "iopub.status.idle": "2020-05-12T04:39:47.063Z"
        }
      }
    },
    {
      "cell_type": "markdown",
      "source": [
        "## Now in 1.0: NamedTuples\n",
        "\n",
        "As you might guess, `NamedTuple`s are just like `Tuple`s except that each element additionally has a name! They have a special syntax using `=` inside a tuple:\n",
        "\n",
        "```julia\n",
        "(name1 = item1, name2 = item2, ...)\n",
        "```"
      ],
      "metadata": {}
    },
    {
      "cell_type": "code",
      "source": [
        "myfavoriteanimals = (bird = \"penguins\", mammal = \"cats\", marsupial = \"sugargliders\")"
      ],
      "outputs": [
        {
          "output_type": "execute_result",
          "execution_count": 4,
          "data": {
            "text/plain": [
              "(bird = \"penguins\", mammal = \"cats\", marsupial = \"sugargliders\")"
            ]
          },
          "metadata": {}
        }
      ],
      "execution_count": 4,
      "metadata": {
        "execution": {
          "iopub.status.busy": "2020-05-12T04:40:16.238Z",
          "iopub.execute_input": "2020-05-12T04:40:16.256Z",
          "iopub.status.idle": "2020-05-12T04:40:16.532Z"
        }
      }
    },
    {
      "cell_type": "markdown",
      "source": [
        "Like regular `Tuples`, `NamedTuples` are ordered, so we can retrieve their elements via indexing:"
      ],
      "metadata": {}
    },
    {
      "cell_type": "code",
      "source": [
        "myfavoriteanimals[1]"
      ],
      "outputs": [
        {
          "output_type": "execute_result",
          "execution_count": 5,
          "data": {
            "text/plain": [
              "\"penguins\""
            ]
          },
          "metadata": {}
        }
      ],
      "execution_count": 5,
      "metadata": {
        "execution": {
          "iopub.status.busy": "2020-05-12T04:40:28.954Z",
          "iopub.execute_input": "2020-05-12T04:40:28.970Z",
          "iopub.status.idle": "2020-05-12T04:40:28.999Z"
        }
      }
    },
    {
      "cell_type": "markdown",
      "source": [
        "They also add the special ability to access values by their name:"
      ],
      "metadata": {}
    },
    {
      "cell_type": "code",
      "source": [
        "myfavoriteanimals.bird"
      ],
      "outputs": [
        {
          "output_type": "execute_result",
          "execution_count": 6,
          "data": {
            "text/plain": [
              "\"penguins\""
            ]
          },
          "metadata": {}
        }
      ],
      "execution_count": 6,
      "metadata": {
        "execution": {
          "iopub.status.busy": "2020-05-12T04:40:31.966Z",
          "iopub.execute_input": "2020-05-12T04:40:31.980Z",
          "iopub.status.idle": "2020-05-12T04:40:32.011Z"
        }
      }
    },
    {
      "cell_type": "markdown",
      "source": [
        "## Dictionaries\n",
        "\n",
        "If we have sets of data related to one another, we may choose to store that data in a dictionary. We can create a dictionary using the `Dict()` function, which we can initialize as an empty dictionary or one storing key, value pairs.\n",
        "\n",
        "Syntax:\n",
        "```julia\n",
        "Dict(key1 => value1, key2 => value2, ...)```\n",
        "\n",
        "A good example is a contacts list, where we associate names with phone numbers."
      ],
      "metadata": {}
    },
    {
      "cell_type": "code",
      "source": [
        "myphonebook = Dict(\"Jenny\" => \"867-5309\", \"Ghostbusters\" => \"555-2368\")"
      ],
      "outputs": [
        {
          "output_type": "execute_result",
          "execution_count": 7,
          "data": {
            "text/plain": [
              "Dict{String,String} with 2 entries:\n",
              "  \"Jenny\"        => \"867-5309\"\n",
              "  \"Ghostbusters\" => \"555-2368\""
            ]
          },
          "metadata": {}
        }
      ],
      "execution_count": 7,
      "metadata": {
        "execution": {
          "iopub.status.busy": "2020-05-12T04:40:38.107Z",
          "iopub.execute_input": "2020-05-12T04:40:38.123Z",
          "iopub.status.idle": "2020-05-12T04:40:38.649Z"
        }
      }
    },
    {
      "cell_type": "markdown",
      "source": [
        "In this example, each name and number is a \"key\" and \"value\" pair. We can grab Jenny's number (a value) using the associated key"
      ],
      "metadata": {}
    },
    {
      "cell_type": "code",
      "source": [
        "myphonebook[\"Jenny\"]"
      ],
      "outputs": [
        {
          "output_type": "execute_result",
          "execution_count": 8,
          "data": {
            "text/plain": [
              "\"867-5309\""
            ]
          },
          "metadata": {}
        }
      ],
      "execution_count": 8,
      "metadata": {
        "execution": {
          "iopub.status.busy": "2020-05-12T04:40:41.461Z",
          "iopub.execute_input": "2020-05-12T04:40:41.474Z",
          "iopub.status.idle": "2020-05-12T04:40:41.502Z"
        }
      }
    },
    {
      "cell_type": "markdown",
      "source": [
        "We can add another entry to this dictionary as follows"
      ],
      "metadata": {}
    },
    {
      "cell_type": "code",
      "source": [
        "myphonebook[\"Kramer\"] = \"555-FILK\""
      ],
      "outputs": [
        {
          "output_type": "execute_result",
          "execution_count": 9,
          "data": {
            "text/plain": [
              "\"555-FILK\""
            ]
          },
          "metadata": {}
        }
      ],
      "execution_count": 9,
      "metadata": {
        "execution": {
          "iopub.status.busy": "2020-05-12T04:40:43.734Z",
          "iopub.execute_input": "2020-05-12T04:40:43.747Z",
          "iopub.status.idle": "2020-05-12T04:40:43.775Z"
        }
      }
    },
    {
      "cell_type": "markdown",
      "source": [
        "Let's check what our phonebook looks like now..."
      ],
      "metadata": {}
    },
    {
      "cell_type": "code",
      "source": [
        "myphonebook"
      ],
      "outputs": [
        {
          "output_type": "execute_result",
          "execution_count": 10,
          "data": {
            "text/plain": [
              "Dict{String,String} with 3 entries:\n",
              "  \"Jenny\"        => \"867-5309\"\n",
              "  \"Kramer\"       => \"555-FILK\"\n",
              "  \"Ghostbusters\" => \"555-2368\""
            ]
          },
          "metadata": {}
        }
      ],
      "execution_count": 10,
      "metadata": {
        "execution": {
          "iopub.status.busy": "2020-05-12T04:40:46.670Z",
          "iopub.execute_input": "2020-05-12T04:40:46.683Z",
          "iopub.status.idle": "2020-05-12T04:40:46.716Z"
        }
      }
    },
    {
      "cell_type": "markdown",
      "source": [
        "We can delete Kramer from our contact list - and simultaneously grab his number - by using `pop!`"
      ],
      "metadata": {}
    },
    {
      "cell_type": "code",
      "source": [
        "pop!(myphonebook, \"Kramer\")"
      ],
      "outputs": [
        {
          "output_type": "execute_result",
          "execution_count": 11,
          "data": {
            "text/plain": [
              "\"555-FILK\""
            ]
          },
          "metadata": {}
        }
      ],
      "execution_count": 11,
      "metadata": {
        "execution": {
          "iopub.status.busy": "2020-05-12T04:40:55.365Z",
          "iopub.execute_input": "2020-05-12T04:40:55.380Z",
          "iopub.status.idle": "2020-05-12T04:40:55.412Z"
        }
      }
    },
    {
      "cell_type": "code",
      "source": [
        "myphonebook"
      ],
      "outputs": [
        {
          "output_type": "execute_result",
          "execution_count": 12,
          "data": {
            "text/plain": [
              "Dict{String,String} with 2 entries:\n",
              "  \"Jenny\"        => \"867-5309\"\n",
              "  \"Ghostbusters\" => \"555-2368\""
            ]
          },
          "metadata": {}
        }
      ],
      "execution_count": 12,
      "metadata": {
        "execution": {
          "iopub.status.busy": "2020-05-12T04:41:04.565Z",
          "iopub.execute_input": "2020-05-12T04:41:04.585Z",
          "iopub.status.idle": "2020-05-12T04:41:04.621Z"
        }
      }
    },
    {
      "cell_type": "markdown",
      "source": [
        "Unlike tuples and arrays, dictionaries are not ordered. So, we can't index into them."
      ],
      "metadata": {}
    },
    {
      "cell_type": "code",
      "source": [
        "myphonebook[1]"
      ],
      "outputs": [
        {
          "output_type": "error",
          "ename": "KeyError",
          "evalue": "KeyError: key 1 not found",
          "traceback": [
            "KeyError: key 1 not found",
            "",
            "Stacktrace:",
            " [1] getindex(::Dict{String,String}, ::Int64) at ./dict.jl:477",
            " [2] top-level scope at In[13]:1"
          ]
        }
      ],
      "execution_count": 13,
      "metadata": {
        "execution": {
          "iopub.status.busy": "2020-05-12T04:41:08.877Z",
          "iopub.execute_input": "2020-05-12T04:41:08.895Z",
          "iopub.status.idle": "2020-05-12T04:41:08.961Z"
        }
      }
    },
    {
      "cell_type": "markdown",
      "source": [
        "In the example above, `julia` thinks you're trying to access a value associated with the key `1`."
      ],
      "metadata": {}
    },
    {
      "cell_type": "markdown",
      "source": [
        "## Arrays\n",
        "\n",
        "Unlike tuples, arrays are mutable. Unlike dictionaries, arrays contain ordered collections. <br>\n",
        "We can create an array by enclosing this collection in `[ ]`.\n",
        "\n",
        "Syntax: <br>\n",
        "```julia\n",
        "[item1, item2, ...]```\n",
        "\n",
        "\n",
        "For example, we might create an array to keep track of my friends"
      ],
      "metadata": {}
    },
    {
      "cell_type": "code",
      "source": [
        "myfriends = [\"Ted\", \"Robyn\", \"Barney\", \"Lily\", \"Marshall\"]"
      ],
      "outputs": [
        {
          "output_type": "execute_result",
          "execution_count": 14,
          "data": {
            "text/plain": [
              "5-element Array{String,1}:\n",
              " \"Ted\"\n",
              " \"Robyn\"\n",
              " \"Barney\"\n",
              " \"Lily\"\n",
              " \"Marshall\""
            ]
          },
          "metadata": {}
        }
      ],
      "execution_count": 14,
      "metadata": {
        "execution": {
          "iopub.status.busy": "2020-05-12T04:41:15.812Z",
          "iopub.execute_input": "2020-05-12T04:41:15.831Z",
          "iopub.status.idle": "2020-05-12T04:41:16.529Z"
        }
      }
    },
    {
      "cell_type": "markdown",
      "source": [
        "The `1` in `Array{String,1}` means this is a one dimensional vector.  An `Array{String,2}` would be a 2d matrix, etc.  The `String` is the type of each element."
      ],
      "metadata": {}
    },
    {
      "cell_type": "markdown",
      "source": [
        "or to store a sequence of numbers"
      ],
      "metadata": {}
    },
    {
      "cell_type": "code",
      "source": [
        "fibonacci = [1, 1, 2, 3, 5, 8, 13]"
      ],
      "outputs": [
        {
          "output_type": "execute_result",
          "execution_count": 15,
          "data": {
            "text/plain": [
              "7-element Array{Int64,1}:\n",
              "  1\n",
              "  1\n",
              "  2\n",
              "  3\n",
              "  5\n",
              "  8\n",
              " 13"
            ]
          },
          "metadata": {}
        }
      ],
      "execution_count": 15,
      "metadata": {
        "execution": {
          "iopub.status.busy": "2020-05-12T04:41:26.490Z",
          "iopub.execute_input": "2020-05-12T04:41:26.509Z",
          "iopub.status.idle": "2020-05-12T04:41:27.266Z"
        }
      }
    },
    {
      "cell_type": "code",
      "source": [
        "mixture = [1, 1, 2, 3, \"Ted\", \"Robyn\"]"
      ],
      "outputs": [
        {
          "output_type": "execute_result",
          "execution_count": 16,
          "data": {
            "text/plain": [
              "6-element Array{Any,1}:\n",
              " 1\n",
              " 1\n",
              " 2\n",
              " 3\n",
              "  \"Ted\"\n",
              "  \"Robyn\""
            ]
          },
          "metadata": {}
        }
      ],
      "execution_count": 16,
      "metadata": {
        "execution": {
          "iopub.status.busy": "2020-05-12T04:41:33.119Z",
          "iopub.execute_input": "2020-05-12T04:41:33.135Z",
          "iopub.status.idle": "2020-05-12T04:41:34.397Z"
        }
      }
    },
    {
      "cell_type": "markdown",
      "source": [
        "Once we have an array, we can grab individual pieces of data from inside that array by indexing into the array. For example, if we want the third friend listed in `myfriends`, we write"
      ],
      "metadata": {}
    },
    {
      "cell_type": "code",
      "source": [
        "myfriends[3]"
      ],
      "outputs": [
        {
          "output_type": "execute_result",
          "execution_count": 17,
          "data": {
            "text/plain": [
              "\"Barney\""
            ]
          },
          "metadata": {}
        }
      ],
      "execution_count": 17,
      "metadata": {
        "execution": {
          "iopub.status.busy": "2020-05-12T04:41:38.368Z",
          "iopub.execute_input": "2020-05-12T04:41:38.392Z",
          "iopub.status.idle": "2020-05-12T04:41:38.421Z"
        }
      }
    },
    {
      "cell_type": "markdown",
      "source": [
        "We can use indexing to edit an existing element of an array"
      ],
      "metadata": {}
    },
    {
      "cell_type": "code",
      "source": [
        "myfriends[3] = \"Baby Bop\""
      ],
      "outputs": [
        {
          "output_type": "execute_result",
          "execution_count": 18,
          "data": {
            "text/plain": [
              "\"Baby Bop\""
            ]
          },
          "metadata": {}
        }
      ],
      "execution_count": 18,
      "metadata": {
        "execution": {
          "iopub.status.busy": "2020-05-12T04:41:44.333Z",
          "iopub.execute_input": "2020-05-12T04:41:44.350Z",
          "iopub.status.idle": "2020-05-12T04:41:44.384Z"
        }
      }
    },
    {
      "cell_type": "markdown",
      "source": [
        "Yes, Julia is 1-based indexing, not 0-based like Python.  Wars are faught over lesser issues. I have a friend with the wisdom of Solomon who proposes settling this once and for all with ½ 😃"
      ],
      "metadata": {}
    },
    {
      "cell_type": "markdown",
      "source": [
        "We can also edit the array by using the `push!` and `pop!` functions. `push!` adds an element to the end of an array and `pop!` removes the last element of an array.\n",
        "\n",
        "We can add another number to our fibonnaci sequence"
      ],
      "metadata": {}
    },
    {
      "cell_type": "code",
      "source": [
        "push!(fibonacci, 21)"
      ],
      "outputs": [
        {
          "output_type": "execute_result",
          "execution_count": 19,
          "data": {
            "text/plain": [
              "8-element Array{Int64,1}:\n",
              "  1\n",
              "  1\n",
              "  2\n",
              "  3\n",
              "  5\n",
              "  8\n",
              " 13\n",
              " 21"
            ]
          },
          "metadata": {}
        }
      ],
      "execution_count": 19,
      "metadata": {
        "execution": {
          "iopub.status.busy": "2020-05-12T04:41:49.882Z",
          "iopub.execute_input": "2020-05-12T04:41:49.899Z",
          "iopub.status.idle": "2020-05-12T04:41:49.929Z"
        }
      }
    },
    {
      "cell_type": "markdown",
      "source": [
        "and then remove it"
      ],
      "metadata": {}
    },
    {
      "cell_type": "code",
      "source": [
        "pop!(fibonacci)"
      ],
      "outputs": [
        {
          "output_type": "execute_result",
          "execution_count": 20,
          "data": {
            "text/plain": [
              "21"
            ]
          },
          "metadata": {}
        }
      ],
      "execution_count": 20,
      "metadata": {
        "execution": {
          "iopub.status.busy": "2020-05-12T04:42:20.254Z",
          "iopub.execute_input": "2020-05-12T04:42:20.271Z",
          "iopub.status.idle": "2020-05-12T04:42:20.462Z"
        }
      }
    },
    {
      "cell_type": "code",
      "source": [
        "fibonacci"
      ],
      "outputs": [
        {
          "output_type": "execute_result",
          "execution_count": 21,
          "data": {
            "text/plain": [
              "7-element Array{Int64,1}:\n",
              "  1\n",
              "  1\n",
              "  2\n",
              "  3\n",
              "  5\n",
              "  8\n",
              " 13"
            ]
          },
          "metadata": {}
        }
      ],
      "execution_count": 21,
      "metadata": {
        "execution": {
          "iopub.status.busy": "2020-05-12T04:42:22.249Z",
          "iopub.execute_input": "2020-05-12T04:42:22.263Z",
          "iopub.status.idle": "2020-05-12T04:42:22.289Z"
        }
      }
    },
    {
      "cell_type": "markdown",
      "source": [
        "So far I've given examples of only 1D arrays of scalars, but arrays can have an arbitrary number of dimensions and can also store other arrays.\n",
        "<br><br>\n",
        "For example, the following are arrays of arrays:"
      ],
      "metadata": {}
    },
    {
      "cell_type": "code",
      "source": [
        "favorites = [[\"koobideh\", \"chocolate\", \"eggs\"],[\"penguins\", \"cats\", \"sugargliders\"]]"
      ],
      "outputs": [
        {
          "output_type": "execute_result",
          "execution_count": 22,
          "data": {
            "text/plain": [
              "2-element Array{Array{String,1},1}:\n",
              " [\"koobideh\", \"chocolate\", \"eggs\"]\n",
              " [\"penguins\", \"cats\", \"sugargliders\"]"
            ]
          },
          "metadata": {}
        }
      ],
      "execution_count": 22,
      "metadata": {
        "execution": {
          "iopub.status.busy": "2020-05-12T04:42:25.477Z",
          "iopub.execute_input": "2020-05-12T04:42:25.494Z",
          "iopub.status.idle": "2020-05-12T04:42:26.244Z"
        }
      }
    },
    {
      "cell_type": "code",
      "source": [
        "numbers = [[1, 2, 3], [4, 5], [6, 7, 8, 9]]"
      ],
      "outputs": [
        {
          "output_type": "execute_result",
          "execution_count": 23,
          "data": {
            "text/plain": [
              "3-element Array{Array{Int64,1},1}:\n",
              " [1, 2, 3]\n",
              " [4, 5]\n",
              " [6, 7, 8, 9]"
            ]
          },
          "metadata": {}
        }
      ],
      "execution_count": 23,
      "metadata": {
        "execution": {
          "iopub.status.busy": "2020-05-12T04:42:28.430Z",
          "iopub.execute_input": "2020-05-12T04:42:28.446Z",
          "iopub.status.idle": "2020-05-12T04:42:29.295Z"
        }
      }
    },
    {
      "cell_type": "markdown",
      "source": [
        "Below are examples of 2D and 3D arrays populated with random values."
      ],
      "metadata": {}
    },
    {
      "cell_type": "code",
      "source": [
        "rand(4, 3)"
      ],
      "outputs": [
        {
          "output_type": "execute_result",
          "execution_count": 24,
          "data": {
            "text/plain": [
              "4×3 Array{Float64,2}:\n",
              " 0.38649   0.82203   0.662479\n",
              " 0.552502  0.433605  0.656372\n",
              " 0.560578  0.685508  0.572185\n",
              " 0.849779  0.838467  0.803045"
            ]
          },
          "metadata": {}
        }
      ],
      "execution_count": 24,
      "metadata": {
        "execution": {
          "iopub.status.busy": "2020-05-12T04:42:33.777Z",
          "iopub.execute_input": "2020-05-12T04:42:33.800Z",
          "iopub.status.idle": "2020-05-12T04:42:34.656Z"
        }
      }
    },
    {
      "cell_type": "code",
      "source": [
        "rand(4, 3, 2)"
      ],
      "outputs": [
        {
          "output_type": "execute_result",
          "execution_count": 25,
          "data": {
            "text/plain": [
              "4×3×2 Array{Float64,3}:\n",
              "[:, :, 1] =\n",
              " 0.0356774  0.342119  0.30621\n",
              " 0.0829997  0.128067  0.375821\n",
              " 0.534676   0.273192  0.837696\n",
              " 0.167102   0.497215  0.748574\n",
              "\n",
              "[:, :, 2] =\n",
              " 0.376969  0.213565  0.150934\n",
              " 0.603896  0.770089  0.723701\n",
              " 0.328548  0.471326  0.780588\n",
              " 0.815008  0.532387  0.990338"
            ]
          },
          "metadata": {}
        }
      ],
      "execution_count": 25,
      "metadata": {
        "execution": {
          "iopub.status.busy": "2020-05-12T04:42:35.774Z",
          "iopub.execute_input": "2020-05-12T04:42:35.789Z",
          "iopub.status.idle": "2020-05-12T04:42:36.739Z"
        }
      }
    },
    {
      "cell_type": "markdown",
      "source": [
        "Be careful when you want to copy arrays!"
      ],
      "metadata": {}
    },
    {
      "cell_type": "code",
      "source": [
        "fibonacci"
      ],
      "outputs": [
        {
          "output_type": "execute_result",
          "execution_count": 26,
          "data": {
            "text/plain": [
              "7-element Array{Int64,1}:\n",
              "  1\n",
              "  1\n",
              "  2\n",
              "  3\n",
              "  5\n",
              "  8\n",
              " 13"
            ]
          },
          "metadata": {}
        }
      ],
      "execution_count": 26,
      "metadata": {
        "execution": {
          "iopub.status.busy": "2020-05-12T04:42:59.020Z",
          "iopub.execute_input": "2020-05-12T04:42:59.039Z",
          "iopub.status.idle": "2020-05-12T04:42:59.073Z"
        }
      }
    },
    {
      "cell_type": "code",
      "source": [
        "somenumbers = fibonacci"
      ],
      "outputs": [
        {
          "output_type": "execute_result",
          "execution_count": 27,
          "data": {
            "text/plain": [
              "7-element Array{Int64,1}:\n",
              "  1\n",
              "  1\n",
              "  2\n",
              "  3\n",
              "  5\n",
              "  8\n",
              " 13"
            ]
          },
          "metadata": {}
        }
      ],
      "execution_count": 27,
      "metadata": {
        "execution": {
          "iopub.status.busy": "2020-05-12T04:43:00.488Z",
          "iopub.execute_input": "2020-05-12T04:43:00.506Z",
          "iopub.status.idle": "2020-05-12T04:43:00.538Z"
        }
      }
    },
    {
      "cell_type": "code",
      "source": [
        "somenumbers[1] = 404"
      ],
      "outputs": [
        {
          "output_type": "execute_result",
          "execution_count": 28,
          "data": {
            "text/plain": [
              "404"
            ]
          },
          "metadata": {}
        }
      ],
      "execution_count": 28,
      "metadata": {
        "execution": {
          "iopub.status.busy": "2020-05-12T04:43:03.929Z",
          "iopub.execute_input": "2020-05-12T04:43:03.943Z",
          "iopub.status.idle": "2020-05-12T04:43:03.972Z"
        }
      }
    },
    {
      "cell_type": "code",
      "source": [
        "fibonacci"
      ],
      "outputs": [
        {
          "output_type": "execute_result",
          "execution_count": 29,
          "data": {
            "text/plain": [
              "7-element Array{Int64,1}:\n",
              " 404\n",
              "   1\n",
              "   2\n",
              "   3\n",
              "   5\n",
              "   8\n",
              "  13"
            ]
          },
          "metadata": {}
        }
      ],
      "execution_count": 29,
      "metadata": {
        "execution": {
          "iopub.status.busy": "2020-05-12T04:43:05.797Z",
          "iopub.execute_input": "2020-05-12T04:43:05.810Z",
          "iopub.status.idle": "2020-05-12T04:43:05.838Z"
        }
      }
    },
    {
      "cell_type": "markdown",
      "source": [
        "Editing `somenumbers` caused `fibonacci` to get updated as well!\n",
        "\n",
        "In the above example, we didn't actually make a copy of `fibonacci`. We just created a new way to access the entries in the array bound to `fibonacci`.\n",
        "\n",
        "If we'd like to make a copy of the array bound to `fibonacci`, we can use the `copy` function."
      ],
      "metadata": {}
    },
    {
      "cell_type": "code",
      "source": [
        "# First, restore fibonacci\n",
        "fibonacci[1] = 1\n",
        "fibonacci"
      ],
      "outputs": [
        {
          "output_type": "execute_result",
          "execution_count": 30,
          "data": {
            "text/plain": [
              "7-element Array{Int64,1}:\n",
              "  1\n",
              "  1\n",
              "  2\n",
              "  3\n",
              "  5\n",
              "  8\n",
              " 13"
            ]
          },
          "metadata": {}
        }
      ],
      "execution_count": 30,
      "metadata": {
        "execution": {
          "iopub.status.busy": "2020-05-12T04:43:26.960Z",
          "iopub.execute_input": "2020-05-12T04:43:26.979Z",
          "iopub.status.idle": "2020-05-12T04:43:27.014Z"
        }
      }
    },
    {
      "cell_type": "code",
      "source": [
        "somemorenumbers = copy(fibonacci)"
      ],
      "outputs": [
        {
          "output_type": "execute_result",
          "execution_count": 31,
          "data": {
            "text/plain": [
              "7-element Array{Int64,1}:\n",
              "  1\n",
              "  1\n",
              "  2\n",
              "  3\n",
              "  5\n",
              "  8\n",
              " 13"
            ]
          },
          "metadata": {}
        }
      ],
      "execution_count": 31,
      "metadata": {
        "execution": {
          "iopub.status.busy": "2020-05-12T04:43:30.093Z",
          "iopub.execute_input": "2020-05-12T04:43:30.109Z",
          "iopub.status.idle": "2020-05-12T04:43:30.137Z"
        }
      }
    },
    {
      "cell_type": "code",
      "source": [
        "somemorenumbers[1] = 404"
      ],
      "outputs": [
        {
          "output_type": "execute_result",
          "execution_count": 32,
          "data": {
            "text/plain": [
              "404"
            ]
          },
          "metadata": {}
        }
      ],
      "execution_count": 32,
      "metadata": {
        "execution": {
          "iopub.status.busy": "2020-05-12T04:43:33.312Z",
          "iopub.execute_input": "2020-05-12T04:43:33.330Z",
          "iopub.status.idle": "2020-05-12T04:43:33.357Z"
        }
      }
    },
    {
      "cell_type": "code",
      "source": [
        "fibonacci"
      ],
      "outputs": [
        {
          "output_type": "execute_result",
          "execution_count": 33,
          "data": {
            "text/plain": [
              "7-element Array{Int64,1}:\n",
              "  1\n",
              "  1\n",
              "  2\n",
              "  3\n",
              "  5\n",
              "  8\n",
              " 13"
            ]
          },
          "metadata": {}
        }
      ],
      "execution_count": 33,
      "metadata": {
        "execution": {
          "iopub.status.busy": "2020-05-12T04:43:36.158Z",
          "iopub.execute_input": "2020-05-12T04:43:36.172Z",
          "iopub.status.idle": "2020-05-12T04:43:36.205Z"
        }
      }
    },
    {
      "cell_type": "markdown",
      "source": [
        "In this last example, fibonacci was not updated. Therefore we see that the arrays bound to `somemorenumbers` and `fibonacci` are distinct."
      ],
      "metadata": {}
    },
    {
      "cell_type": "markdown",
      "source": [
        "### Exercises\n",
        "\n",
        "#### 3.1\n",
        "Create an array, `a_ray`, with the following code:\n",
        "\n",
        "```julia\n",
        "a_ray = [1, 2, 3]\n",
        "```\n",
        "\n",
        "Add the number `4` to the end of this array and then remove it."
      ],
      "metadata": {}
    },
    {
      "cell_type": "code",
      "source": [
        "a_ray = [1, 2, 3]\n",
        "push!(a_ray, 4)\n",
        "pop!(a_ray)"
      ],
      "outputs": [
        {
          "output_type": "execute_result",
          "execution_count": 34,
          "data": {
            "text/plain": [
              "4"
            ]
          },
          "metadata": {}
        }
      ],
      "execution_count": 34,
      "metadata": {
        "collapsed": true,
        "outputExpanded": false,
        "jupyter": {
          "source_hidden": false,
          "outputs_hidden": false
        },
        "nteract": {
          "transient": {
            "deleting": false
          }
        },
        "execution": {
          "iopub.status.busy": "2020-05-12T04:44:26.832Z",
          "iopub.execute_input": "2020-05-12T04:44:26.847Z",
          "iopub.status.idle": "2020-05-12T04:44:26.879Z"
        }
      }
    },
    {
      "cell_type": "code",
      "source": [
        "@assert a_ray == [1, 2, 3]"
      ],
      "outputs": [],
      "execution_count": 35,
      "metadata": {
        "execution": {
          "iopub.status.busy": "2020-05-12T04:44:27.932Z",
          "iopub.execute_input": "2020-05-12T04:44:27.947Z",
          "iopub.status.idle": "2020-05-12T04:44:27.972Z"
        }
      }
    },
    {
      "cell_type": "markdown",
      "source": [
        "#### 3.2\n",
        "Try to add \"Emergency\" as key to `myphonebook` with the value `string(911)` with the following code\n",
        "```julia\n",
        "myphonebook[\"Emergency\"] = 911\n",
        "```\n",
        "\n",
        "Why doesn't this work?"
      ],
      "metadata": {}
    },
    {
      "cell_type": "code",
      "source": [
        "myphonebook[\"Emergency\"] = \"911\"\n",
        "myphonebook"
      ],
      "outputs": [
        {
          "output_type": "execute_result",
          "execution_count": 38,
          "data": {
            "text/plain": [
              "Dict{String,String} with 3 entries:\n",
              "  \"Jenny\"        => \"867-5309\"\n",
              "  \"Emergency\"    => \"911\"\n",
              "  \"Ghostbusters\" => \"555-2368\""
            ]
          },
          "metadata": {}
        }
      ],
      "execution_count": 38,
      "metadata": {
        "collapsed": true,
        "outputExpanded": false,
        "jupyter": {
          "source_hidden": false,
          "outputs_hidden": false
        },
        "nteract": {
          "transient": {
            "deleting": false
          }
        },
        "execution": {
          "iopub.status.busy": "2020-05-12T04:45:21.415Z",
          "iopub.execute_input": "2020-05-12T04:45:21.430Z",
          "iopub.status.idle": "2020-05-12T04:45:21.459Z"
        }
      }
    },
    {
      "cell_type": "markdown",
      "source": [
        "#### 3.3\n",
        "Create a new dictionary called `flexible_phonebook` that has Jenny's number stored as an integer and Ghostbusters' number stored as a string with the following code\n",
        "\n",
        "```julia\n",
        "flexible_phonebook = Dict(\"Jenny\" => 8675309, \"Ghostbusters\" => \"555-2368\")\n",
        "```"
      ],
      "metadata": {}
    },
    {
      "cell_type": "code",
      "source": [
        "flexible_phonebook = Dict(\"Jenny\" => 8675309, \"Ghostbusters\" => \"555-2368\")"
      ],
      "outputs": [
        {
          "output_type": "execute_result",
          "execution_count": 39,
          "data": {
            "text/plain": [
              "Dict{String,Any} with 2 entries:\n",
              "  \"Jenny\"        => 8675309\n",
              "  \"Ghostbusters\" => \"555-2368\""
            ]
          },
          "metadata": {}
        }
      ],
      "execution_count": 39,
      "metadata": {
        "collapsed": true,
        "outputExpanded": false,
        "jupyter": {
          "source_hidden": false,
          "outputs_hidden": false
        },
        "nteract": {
          "transient": {
            "deleting": false
          }
        },
        "execution": {
          "iopub.status.busy": "2020-05-12T04:46:07.891Z",
          "iopub.execute_input": "2020-05-12T04:46:07.907Z",
          "iopub.status.idle": "2020-05-12T04:46:08.326Z"
        }
      }
    },
    {
      "cell_type": "code",
      "source": [
        "@assert flexible_phonebook == Dict(\"Jenny\" => 8675309, \"Ghostbusters\" => \"555-2368\")"
      ],
      "outputs": [],
      "execution_count": 40,
      "metadata": {
        "execution": {
          "iopub.status.busy": "2020-05-12T04:46:08.555Z",
          "iopub.execute_input": "2020-05-12T04:46:08.573Z",
          "iopub.status.idle": "2020-05-12T04:46:08.595Z"
        }
      }
    },
    {
      "cell_type": "markdown",
      "source": [
        "#### 3.4\n",
        "Add the key \"Emergency\" with the value `911` (an integer) to `flexible_phonebook`."
      ],
      "metadata": {}
    },
    {
      "cell_type": "code",
      "source": [
        "flexible_phonebook[\"Emergency\"] = 911"
      ],
      "outputs": [
        {
          "output_type": "execute_result",
          "execution_count": 41,
          "data": {
            "text/plain": [
              "911"
            ]
          },
          "metadata": {}
        }
      ],
      "execution_count": 41,
      "metadata": {
        "collapsed": true,
        "outputExpanded": false,
        "jupyter": {
          "source_hidden": false,
          "outputs_hidden": false
        },
        "nteract": {
          "transient": {
            "deleting": false
          }
        },
        "execution": {
          "iopub.status.busy": "2020-05-12T04:46:43.201Z",
          "iopub.execute_input": "2020-05-12T04:46:43.216Z",
          "iopub.status.idle": "2020-05-12T04:46:43.249Z"
        }
      }
    },
    {
      "cell_type": "code",
      "source": [
        "@assert haskey(flexible_phonebook, \"Emergency\")"
      ],
      "outputs": [],
      "execution_count": 42,
      "metadata": {
        "execution": {
          "iopub.status.busy": "2020-05-12T04:46:44.718Z",
          "iopub.execute_input": "2020-05-12T04:46:44.733Z",
          "iopub.status.idle": "2020-05-12T04:46:44.755Z"
        }
      }
    },
    {
      "cell_type": "code",
      "source": [
        "@assert flexible_phonebook[\"Emergency\"] == 911"
      ],
      "outputs": [],
      "execution_count": 43,
      "metadata": {
        "execution": {
          "iopub.status.busy": "2020-05-12T04:46:49.542Z",
          "iopub.execute_input": "2020-05-12T04:46:49.557Z",
          "iopub.status.idle": "2020-05-12T04:46:49.579Z"
        }
      }
    },
    {
      "cell_type": "markdown",
      "source": [
        "#### 3.5\n",
        "Why can we add an integer as a value to `flexible_phonebook` but not `myphonebook`? How could we have initialized `myphonebook` so that it would accept integers as values?"
      ],
      "metadata": {}
    },
    {
      "cell_type": "markdown",
      "source": [
        "myphonebook is of type Array{\"String\",...} and 911 as an Int64 cannot be converted to string implicitly. Initialize array as \"Any\" type"
      ],
      "metadata": {
        "nteract": {
          "transient": {
            "deleting": false
          }
        }
      }
    },
    {
      "cell_type": "markdown",
      "source": [],
      "metadata": {
        "nteract": {
          "transient": {
            "deleting": false
          }
        }
      }
    }
  ],
  "metadata": {
    "language_info": {
      "file_extension": ".jl",
      "name": "julia",
      "mimetype": "application/julia",
      "version": "1.4.1"
    },
    "kernelspec": {
      "name": "julia-1.0",
      "display_name": "Julia 1.0.3",
      "language": "julia"
    },
    "nteract": {
      "version": "0.23.1"
    }
  },
  "nbformat": 4,
  "nbformat_minor": 3
}