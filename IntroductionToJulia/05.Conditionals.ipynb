{
  "cells": [
    {
      "cell_type": "markdown",
      "source": [
        "# Conditionals\n",
        "\n",
        "#### with the `if` keyword\n",
        "In Julia, the syntax\n",
        "\n",
        "```julia\n",
        "if *condition 1*\n",
        "    *option 1*\n",
        "elseif *condition 2*\n",
        "    *option 2*\n",
        "else\n",
        "    *option 3*\n",
        "end\n",
        "```\n",
        "\n",
        "allows us to conditionally evaluate one of our options.\n",
        "<br><br>\n",
        "For example, we might want to implement the FizzBuzz test: given a number, N, print \"Fizz\" if N is divisible by 3, \"Buzz\" if N is divisible by 5, and \"FizzBuzz\" if N is divisible by 3 and 5. Otherwise just print the number itself! Enter your choice for `N` here:"
      ],
      "metadata": {}
    },
    {
      "cell_type": "code",
      "source": [
        "N = 2"
      ],
      "outputs": [
        {
          "output_type": "execute_result",
          "execution_count": 8,
          "data": {
            "text/plain": [
              "2"
            ]
          },
          "metadata": {}
        }
      ],
      "execution_count": 8,
      "metadata": {
        "execution": {
          "iopub.status.busy": "2020-05-12T05:21:46.434Z",
          "iopub.execute_input": "2020-05-12T05:21:46.440Z",
          "iopub.status.idle": "2020-05-12T05:21:46.455Z"
        }
      }
    },
    {
      "cell_type": "code",
      "source": [
        "if (N % 3 == 0) && (N % 5 == 0) # `&&` means \"AND\"; % computes the remainder after division\n",
        "    println(\"FizzBuzz\")\n",
        "elseif N % 3 == 0\n",
        "    println(\"Fizz\")\n",
        "elseif N % 5 == 0\n",
        "    println(\"Buzz\")\n",
        "else\n",
        "    println(N)\n",
        "end"
      ],
      "outputs": [
        {
          "output_type": "stream",
          "name": "stdout",
          "text": [
            "2\n"
          ]
        }
      ],
      "execution_count": 9,
      "metadata": {
        "execution": {
          "iopub.status.busy": "2020-05-12T05:21:46.877Z",
          "iopub.execute_input": "2020-05-12T05:21:46.883Z",
          "iopub.status.idle": "2020-05-12T05:21:46.907Z"
        }
      }
    },
    {
      "cell_type": "markdown",
      "source": [
        "#### with ternary operators\n",
        "\n",
        "For this last block, we could instead use the ternary operator with the syntax\n",
        "\n",
        "```julia\n",
        "a ? b : c\n",
        "```\n",
        "\n",
        "which equates to\n",
        "\n",
        "```julia\n",
        "if a\n",
        "    b\n",
        "else\n",
        "    c\n",
        "end\n",
        "```"
      ],
      "metadata": {}
    },
    {
      "cell_type": "markdown",
      "source": [
        "Now let's say we want to return the larger of two numbers. Give `x` and `y` values here:"
      ],
      "metadata": {}
    },
    {
      "cell_type": "code",
      "source": [
        "x = 90\n",
        "y = 3"
      ],
      "outputs": [
        {
          "output_type": "execute_result",
          "execution_count": 10,
          "data": {
            "text/plain": [
              "3"
            ]
          },
          "metadata": {}
        }
      ],
      "execution_count": 10,
      "metadata": {
        "execution": {
          "iopub.status.busy": "2020-05-12T05:22:18.427Z",
          "iopub.execute_input": "2020-05-12T05:22:18.436Z",
          "iopub.status.idle": "2020-05-12T05:22:18.449Z"
        }
      }
    },
    {
      "cell_type": "markdown",
      "source": [
        "Using the `if` and `else` keywords, we might write:"
      ],
      "metadata": {}
    },
    {
      "cell_type": "code",
      "source": [
        "if x > y\n",
        "    x\n",
        "else\n",
        "    y\n",
        "end"
      ],
      "outputs": [
        {
          "output_type": "execute_result",
          "execution_count": 11,
          "data": {
            "text/plain": [
              "90"
            ]
          },
          "metadata": {}
        }
      ],
      "execution_count": 11,
      "metadata": {
        "execution": {
          "iopub.status.busy": "2020-05-12T05:22:20.762Z",
          "iopub.execute_input": "2020-05-12T05:22:20.768Z",
          "iopub.status.idle": "2020-05-12T05:22:20.815Z"
        }
      }
    },
    {
      "cell_type": "markdown",
      "source": [
        "and as a ternary operator, the conditional looks like this:"
      ],
      "metadata": {}
    },
    {
      "cell_type": "code",
      "source": [
        "(x > y) ? x : y"
      ],
      "outputs": [
        {
          "output_type": "execute_result",
          "execution_count": 12,
          "data": {
            "text/plain": [
              "90"
            ]
          },
          "metadata": {}
        }
      ],
      "execution_count": 12,
      "metadata": {
        "execution": {
          "iopub.status.busy": "2020-05-12T05:22:28.141Z",
          "iopub.execute_input": "2020-05-12T05:22:28.149Z",
          "iopub.status.idle": "2020-05-12T05:22:28.188Z"
        }
      }
    },
    {
      "cell_type": "markdown",
      "source": [
        "#### with short-circuit evaluation\n",
        "\n",
        "We've already seen expressions with the syntax\n",
        "```julia\n",
        "a && b\n",
        "```\n",
        "to return true if both `a` and `b` are true. Of course, if `a` is false, Julia doesn't even need to know the value of `b` in order to determine that the overall result will be false. So Julia doesn't even need to check what `b` is; it can just \"short-circuit\" and immediately return `false`.  The second argument `b` might be a more complicated expression like a function call with a side-effect, in which case it won't even be called:"
      ],
      "metadata": {}
    },
    {
      "cell_type": "code",
      "source": [
        "false && (println(\"hi\"); true)"
      ],
      "outputs": [
        {
          "output_type": "execute_result",
          "execution_count": 13,
          "data": {
            "text/plain": [
              "false"
            ]
          },
          "metadata": {}
        }
      ],
      "execution_count": 13,
      "metadata": {
        "execution": {
          "iopub.status.busy": "2020-05-12T05:22:44.378Z",
          "iopub.execute_input": "2020-05-12T05:22:44.385Z",
          "iopub.status.idle": "2020-05-12T05:22:44.778Z"
        }
      }
    },
    {
      "cell_type": "code",
      "source": [
        "true && (println(\"hi\"); true)"
      ],
      "outputs": [
        {
          "output_type": "stream",
          "name": "stdout",
          "text": [
            "hi\n"
          ]
        },
        {
          "output_type": "execute_result",
          "execution_count": 14,
          "data": {
            "text/plain": [
              "true"
            ]
          },
          "metadata": {}
        }
      ],
      "execution_count": 14,
      "metadata": {
        "execution": {
          "iopub.status.busy": "2020-05-12T05:23:14.920Z",
          "iopub.execute_input": "2020-05-12T05:23:14.926Z",
          "iopub.status.idle": "2020-05-12T05:23:14.943Z"
        }
      }
    },
    {
      "cell_type": "markdown",
      "source": [
        "On the other hand, if `a` is true, Julia knows it can just return the value of `b` as the overall expression. This means that `b` doesn't necessarily need evaluate to `true` or `false`!  `b` could even be an error:"
      ],
      "metadata": {}
    },
    {
      "cell_type": "code",
      "source": [
        "(x > 0) && error(\"x cannot be greater than 0\")"
      ],
      "outputs": [
        {
          "output_type": "error",
          "ename": "ErrorException",
          "evalue": "x cannot be greater than 0",
          "traceback": [
            "x cannot be greater than 0",
            "",
            "Stacktrace:",
            " [1] error(::String) at ./error.jl:33",
            " [2] top-level scope at In[15]:1"
          ]
        }
      ],
      "execution_count": 15,
      "metadata": {
        "execution": {
          "iopub.status.busy": "2020-05-12T05:23:23.673Z",
          "iopub.execute_input": "2020-05-12T05:23:23.679Z",
          "iopub.status.idle": "2020-05-12T05:23:24.011Z"
        }
      }
    },
    {
      "cell_type": "markdown",
      "source": [
        "Similarly, check out the `||` operator, which also uses short-circuit evaluation to perform the \"or\" operation."
      ],
      "metadata": {}
    },
    {
      "cell_type": "code",
      "source": [
        "true || println(\"hi\")"
      ],
      "outputs": [
        {
          "output_type": "execute_result",
          "execution_count": 16,
          "data": {
            "text/plain": [
              "true"
            ]
          },
          "metadata": {}
        }
      ],
      "execution_count": 16,
      "metadata": {
        "execution": {
          "iopub.status.busy": "2020-05-12T05:23:44.780Z",
          "iopub.execute_input": "2020-05-12T05:23:44.785Z",
          "iopub.status.idle": "2020-05-12T05:23:44.796Z"
        }
      }
    },
    {
      "cell_type": "markdown",
      "source": [
        "and"
      ],
      "metadata": {}
    },
    {
      "cell_type": "code",
      "source": [
        "false || println(\"hi\")"
      ],
      "outputs": [
        {
          "output_type": "stream",
          "name": "stdout",
          "text": [
            "hi\n"
          ]
        }
      ],
      "execution_count": 17,
      "metadata": {
        "execution": {
          "iopub.status.busy": "2020-05-12T05:23:51.510Z",
          "iopub.execute_input": "2020-05-12T05:23:51.516Z",
          "iopub.status.idle": "2020-05-12T05:23:51.526Z"
        }
      }
    },
    {
      "cell_type": "markdown",
      "source": [
        "### Exercises\n",
        "\n",
        "#### 5.1\n",
        "Write a conditional statement that prints a number if the number is even and the string \"odd\" if the number is odd."
      ],
      "metadata": {}
    },
    {
      "cell_type": "code",
      "source": [
        "x = 6\n",
        "if x % 2 == 0\n",
        "  println(x)\n",
        "else\n",
        "  println(\"odd\")\n",
        "end"
      ],
      "outputs": [
        {
          "output_type": "stream",
          "name": "stdout",
          "text": [
            "6\n"
          ]
        }
      ],
      "execution_count": 26,
      "metadata": {
        "collapsed": true,
        "outputExpanded": false,
        "jupyter": {
          "source_hidden": false,
          "outputs_hidden": false
        },
        "nteract": {
          "transient": {
            "deleting": false
          }
        },
        "execution": {
          "iopub.status.busy": "2020-05-12T05:26:43.822Z",
          "iopub.execute_input": "2020-05-12T05:26:43.828Z",
          "iopub.status.idle": "2020-05-12T05:26:43.838Z"
        }
      }
    },
    {
      "cell_type": "markdown",
      "source": [
        "#### 5.2\n",
        "Rewrite the code from 5.1 using a ternary operator."
      ],
      "metadata": {}
    },
    {
      "cell_type": "code",
      "source": [
        "( x % 2 == 0 ) ? println(x) : println(\"odd\")"
      ],
      "outputs": [
        {
          "output_type": "stream",
          "name": "stdout",
          "text": [
            "6\n"
          ]
        }
      ],
      "execution_count": 27,
      "metadata": {
        "collapsed": true,
        "outputExpanded": false,
        "jupyter": {
          "source_hidden": false,
          "outputs_hidden": false
        },
        "nteract": {
          "transient": {
            "deleting": false
          }
        },
        "execution": {
          "iopub.status.busy": "2020-05-12T05:26:45.660Z",
          "iopub.execute_input": "2020-05-12T05:26:45.666Z",
          "iopub.status.idle": "2020-05-12T05:26:45.676Z"
        }
      }
    },
    {
      "cell_type": "code",
      "source": [],
      "outputs": [],
      "execution_count": null,
      "metadata": {
        "collapsed": true,
        "outputExpanded": false,
        "jupyter": {
          "source_hidden": false,
          "outputs_hidden": false
        },
        "nteract": {
          "transient": {
            "deleting": false
          }
        }
      }
    }
  ],
  "metadata": {
    "language_info": {
      "file_extension": ".jl",
      "name": "julia",
      "mimetype": "application/julia",
      "version": "1.4.1"
    },
    "kernelspec": {
      "name": "julia-1.0",
      "display_name": "Julia 1.0.3",
      "language": "julia"
    },
    "nteract": {
      "version": "0.23.1"
    }
  },
  "nbformat": 4,
  "nbformat_minor": 3
}